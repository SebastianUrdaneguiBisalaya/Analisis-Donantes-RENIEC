{
 "cells": [
  {
   "cell_type": "markdown",
   "metadata": {},
   "source": [
    "<div>\n",
    "<p style=\"text-align:center\">\n",
    "<img src=\"./src/logo DatosAbiertos.jpg\">\n",
    "</p>\n",
    "</div>"
   ]
  },
  {
   "cell_type": "markdown",
   "metadata": {},
   "source": [
    "# **Población Identificada con DNI mayor de edad por condición de donante de órganos**\n",
    "### **Segundo Semestre - 2023**"
   ]
  },
  {
   "cell_type": "code",
   "execution_count": 1,
   "metadata": {},
   "outputs": [],
   "source": [
    "import pandas as pd\n",
    "import numpy as np\n",
    "import matplotlib.pyplot as plt\n",
    "import seaborn as sns\n",
    "import plotly.express as px\n",
    "import geopandas as gpd\n",
    "from datetime import datetime\n",
    "import warnings\n",
    "warnings.filterwarnings('ignore')"
   ]
  },
  {
   "cell_type": "markdown",
   "metadata": {},
   "source": [
    "### **Importar Dataset del Portal Nacional de Datos Abiertos**"
   ]
  },
  {
   "cell_type": "code",
   "execution_count": 6,
   "metadata": {},
   "outputs": [
    {
     "data": {
      "text/html": [
       "<div>\n",
       "<style scoped>\n",
       "    .dataframe tbody tr th:only-of-type {\n",
       "        vertical-align: middle;\n",
       "    }\n",
       "\n",
       "    .dataframe tbody tr th {\n",
       "        vertical-align: top;\n",
       "    }\n",
       "\n",
       "    .dataframe thead th {\n",
       "        text-align: right;\n",
       "    }\n",
       "</style>\n",
       "<table border=\"1\" class=\"dataframe\">\n",
       "  <thead>\n",
       "    <tr style=\"text-align: right;\">\n",
       "      <th></th>\n",
       "      <th>Residencia</th>\n",
       "      <th>Cod_continente</th>\n",
       "      <th>Continente</th>\n",
       "      <th>CodPais</th>\n",
       "      <th>Pais</th>\n",
       "      <th>UBIGEO_RENIEC</th>\n",
       "      <th>UBIGEO_INEI</th>\n",
       "      <th>Departamento</th>\n",
       "      <th>Provincia</th>\n",
       "      <th>Distrito</th>\n",
       "      <th>Sexo</th>\n",
       "      <th>Edad</th>\n",
       "      <th>Donacion</th>\n",
       "      <th>Cantidad</th>\n",
       "    </tr>\n",
       "  </thead>\n",
       "  <tbody>\n",
       "    <tr>\n",
       "      <th>0</th>\n",
       "      <td>Nacional</td>\n",
       "      <td>92</td>\n",
       "      <td>América</td>\n",
       "      <td>9233</td>\n",
       "      <td>Perú</td>\n",
       "      <td>10101</td>\n",
       "      <td>10101</td>\n",
       "      <td>Amazonas</td>\n",
       "      <td>Chachapoyas</td>\n",
       "      <td>Chachapoyas</td>\n",
       "      <td>Hombre</td>\n",
       "      <td>0</td>\n",
       "      <td>No Especificado</td>\n",
       "      <td>277</td>\n",
       "    </tr>\n",
       "    <tr>\n",
       "      <th>1</th>\n",
       "      <td>Nacional</td>\n",
       "      <td>92</td>\n",
       "      <td>América</td>\n",
       "      <td>9233</td>\n",
       "      <td>Perú</td>\n",
       "      <td>10101</td>\n",
       "      <td>10101</td>\n",
       "      <td>Amazonas</td>\n",
       "      <td>Chachapoyas</td>\n",
       "      <td>Chachapoyas</td>\n",
       "      <td>Hombre</td>\n",
       "      <td>1</td>\n",
       "      <td>No Especificado</td>\n",
       "      <td>329</td>\n",
       "    </tr>\n",
       "    <tr>\n",
       "      <th>2</th>\n",
       "      <td>Nacional</td>\n",
       "      <td>92</td>\n",
       "      <td>América</td>\n",
       "      <td>9233</td>\n",
       "      <td>Perú</td>\n",
       "      <td>10101</td>\n",
       "      <td>10101</td>\n",
       "      <td>Amazonas</td>\n",
       "      <td>Chachapoyas</td>\n",
       "      <td>Chachapoyas</td>\n",
       "      <td>Hombre</td>\n",
       "      <td>2</td>\n",
       "      <td>No Especificado</td>\n",
       "      <td>314</td>\n",
       "    </tr>\n",
       "    <tr>\n",
       "      <th>3</th>\n",
       "      <td>Nacional</td>\n",
       "      <td>92</td>\n",
       "      <td>América</td>\n",
       "      <td>9233</td>\n",
       "      <td>Perú</td>\n",
       "      <td>10101</td>\n",
       "      <td>10101</td>\n",
       "      <td>Amazonas</td>\n",
       "      <td>Chachapoyas</td>\n",
       "      <td>Chachapoyas</td>\n",
       "      <td>Hombre</td>\n",
       "      <td>3</td>\n",
       "      <td>No Especificado</td>\n",
       "      <td>342</td>\n",
       "    </tr>\n",
       "    <tr>\n",
       "      <th>4</th>\n",
       "      <td>Nacional</td>\n",
       "      <td>92</td>\n",
       "      <td>América</td>\n",
       "      <td>9233</td>\n",
       "      <td>Perú</td>\n",
       "      <td>10101</td>\n",
       "      <td>10101</td>\n",
       "      <td>Amazonas</td>\n",
       "      <td>Chachapoyas</td>\n",
       "      <td>Chachapoyas</td>\n",
       "      <td>Hombre</td>\n",
       "      <td>4</td>\n",
       "      <td>No Especificado</td>\n",
       "      <td>352</td>\n",
       "    </tr>\n",
       "  </tbody>\n",
       "</table>\n",
       "</div>"
      ],
      "text/plain": [
       "  Residencia  Cod_continente Continente  CodPais  Pais UBIGEO_RENIEC  \\\n",
       "0   Nacional              92    América     9233  Perú         10101   \n",
       "1   Nacional              92    América     9233  Perú         10101   \n",
       "2   Nacional              92    América     9233  Perú         10101   \n",
       "3   Nacional              92    América     9233  Perú         10101   \n",
       "4   Nacional              92    América     9233  Perú         10101   \n",
       "\n",
       "  UBIGEO_INEI Departamento    Provincia     Distrito    Sexo  Edad  \\\n",
       "0       10101     Amazonas  Chachapoyas  Chachapoyas  Hombre     0   \n",
       "1       10101     Amazonas  Chachapoyas  Chachapoyas  Hombre     1   \n",
       "2       10101     Amazonas  Chachapoyas  Chachapoyas  Hombre     2   \n",
       "3       10101     Amazonas  Chachapoyas  Chachapoyas  Hombre     3   \n",
       "4       10101     Amazonas  Chachapoyas  Chachapoyas  Hombre     4   \n",
       "\n",
       "          Donacion  Cantidad  \n",
       "0  No Especificado       277  \n",
       "1  No Especificado       329  \n",
       "2  No Especificado       314  \n",
       "3  No Especificado       342  \n",
       "4  No Especificado       352  "
      ]
     },
     "execution_count": 6,
     "metadata": {},
     "output_type": "execute_result"
    }
   ],
   "source": [
    "data = pd.read_csv(\"./src/data/16_OPP_2023_Jun_donacion_0.csv\", delimiter=\",\")\n",
    "data.head()"
   ]
  },
  {
   "cell_type": "markdown",
   "metadata": {},
   "source": [
    "### **Importar Dataset Geográfico por Departamento del Perú**"
   ]
  },
  {
   "cell_type": "code",
   "execution_count": 16,
   "metadata": {},
   "outputs": [
    {
     "data": {
      "image/png": "[encoded data removed]",
      "text/plain": [
       "<Figure size 576x432 with 1 Axes>"
      ]
     },
     "metadata": {},
     "output_type": "display_data"
    }
   ],
   "source": [
    "geodata = gpd.read_file('./src/geoData/DEPARTAMENTOS.shp')\n",
    "fig, ax = plt.subplots(figsize = (8,6))\n",
    "geodata.plot(ax = ax)\n",
    "for i in ['bottom', 'left']:\n",
    "    ax.spines[i].set_color('white')\n",
    "    ax.spines[i].set_linewidth(1.5) \n",
    "right_side = ax.spines[\"right\"]\n",
    "right_side.set_visible(False)\n",
    "top_side = ax.spines[\"top\"]\n",
    "top_side.set_visible(False)\n",
    "ax.set_axisbelow(True)\n",
    "ax.grid(color='gray', linewidth=1, axis='y', alpha=0.4)\n",
    "plt.gca().spines['top'].set_visible(False)\n",
    "plt.gca().spines['bottom'].set_visible(False)\n",
    "plt.gca().spines['left'].set_visible(False)\n",
    "plt.gca().spines['right'].set_visible(False)\n",
    "plt.tick_params(axis='both', which='both', length=0)\n",
    "plt.xticks([])\n",
    "plt.yticks([])\n",
    "plt.title(\"Mapa del Perú por Departamento\", size = 16)\n",
    "plt.show()"
   ]
  },
  {
   "cell_type": "markdown",
   "metadata": {},
   "source": [
    "## **Análisis Exploratorio de Datos - Parte I**"
   ]
  },
  {
   "cell_type": "code",
   "execution_count": 4,
   "metadata": {},
   "outputs": [
    {
     "name": "stdout",
     "output_type": "stream",
     "text": [
      "Residencia        0\n",
      "Cod_continente    0\n",
      "Continente        0\n",
      "CodPais           0\n",
      "Pais              0\n",
      "UBIGEO_RENIEC     0\n",
      "UBIGEO_INEI       0\n",
      "Departamento      0\n",
      "Provincia         0\n",
      "Distrito          0\n",
      "Sexo              0\n",
      "Edad              0\n",
      "Donacion          0\n",
      "Cantidad          0\n",
      "dtype: int64\n",
      "##########################\n",
      "No existen valores nulos\n"
     ]
    }
   ],
   "source": [
    "# Determinar si existen valores nulos\n",
    "print(data.isnull().sum())\n",
    "print(\"##########################\")\n",
    "print(\"No existen valores nulos\")"
   ]
  },
  {
   "cell_type": "code",
   "execution_count": 5,
   "metadata": {},
   "outputs": [
    {
     "data": {
      "text/plain": [
       "Residencia        object\n",
       "Cod_continente     int64\n",
       "Continente        object\n",
       "CodPais            int64\n",
       "Pais              object\n",
       "UBIGEO_RENIEC     object\n",
       "UBIGEO_INEI       object\n",
       "Departamento      object\n",
       "Provincia         object\n",
       "Distrito          object\n",
       "Sexo              object\n",
       "Edad               int64\n",
       "Donacion          object\n",
       "Cantidad           int64\n",
       "dtype: object"
      ]
     },
     "execution_count": 5,
     "metadata": {},
     "output_type": "execute_result"
    }
   ],
   "source": [
    "# Revisar tipo de dato\n",
    "data.dtypes"
   ]
  },
  {
   "cell_type": "markdown",
   "metadata": {},
   "source": [
    "## **Análisis Exploratorio de Datos - Parte II**"
   ]
  },
  {
   "cell_type": "code",
   "execution_count": 49,
   "metadata": {},
   "outputs": [
    {
     "data": {
      "image/svg+xml": [
       "<svg class=\"main-svg\" xmlns=\"http://www.w3.org/2000/svg\" xmlns:xlink=\"http://www.w3.org/1999/xlink\" width=\"700\" height=\"500\" style=\"\" viewBox=\"0 0 700 500\"><rect x=\"0\" y=\"0\" width=\"700\" height=\"500\" style=\"fill: rgb(255, 255, 255); fill-opacity: 1;\"/><defs id=\"defs-4c4b2f\"><g class=\"clips\"/><g class=\"gradients\"/><g class=\"patterns\"/></defs><g class=\"bglayer\"/><g class=\"layer-below\"><g class=\"imagelayer\"/><g class=\"shapelayer\"/></g><g class=\"cartesianlayer\"/><g class=\"polarlayer\"/><g class=\"smithlayer\"/><g class=\"ternarylayer\"/><g class=\"geolayer\"/><g class=\"funnelarealayer\"/><g class=\"pielayer\"><g class=\"trace\" stroke-linejoin=\"round\" style=\"opacity: 1;\"><g class=\"slice\"><path class=\"surface\" d=\"M327,260l0,-160a160,160 0 1 1 -29.98101033371595,2.8340398834098153Z\" style=\"pointer-events: none; stroke-width: 0; fill: rgb(99, 110, 250); fill-opacity: 1; stroke: rgb(68, 68, 68); stroke-opacity: 1;\"/><g class=\"slicetext\"><text data-notex=\"1\" class=\"slicetext\" transform=\"translate(334.47397756548116,344.1449571682464)\" text-anchor=\"middle\" x=\"0\" y=\"0\" style=\"font-family: 'Open Sans', verdana, arial, sans-serif; font-size: 12px; fill: rgb(255, 255, 255); fill-opacity: 1; white-space: pre;\">97%</text></g></g><g class=\"slice\"><path class=\"surface\" d=\"M327,260l-29.98101033371594,-157.16596011659018a160,160 0 0 1 29.98101033371594,-2.8340398834098153Z\" style=\"pointer-events: none; stroke-width: 0; fill: rgb(239, 85, 59); fill-opacity: 1; stroke: rgb(68, 68, 68); stroke-opacity: 1;\"/><g class=\"slicetext\"><text data-notex=\"1\" class=\"slicetext\" transform=\"translate(313.175306670811,118.911201891562)\" text-anchor=\"middle\" x=\"0\" y=\"0\" style=\"font-family: 'Open Sans', verdana, arial, sans-serif; font-size: 12px; fill: rgb(68, 68, 68); fill-opacity: 1; white-space: pre;\">3%</text></g></g></g></g><g class=\"iciclelayer\"/><g class=\"treemaplayer\"/><g class=\"sunburstlayer\"/><g class=\"glimages\"/><defs id=\"topdefs-4c4b2f\"><g class=\"clips\"/><clipPath id=\"legend4c4b2f\"><rect width=\"104\" height=\"48\" x=\"0\" y=\"0\"/></clipPath></defs><g class=\"layer-above\"><g class=\"imagelayer\"/><g class=\"shapelayer\"/></g><g class=\"infolayer\"><g class=\"legend\" pointer-events=\"all\" transform=\"translate(583.88,100)\"><rect class=\"bg\" shape-rendering=\"crispEdges\" width=\"104\" height=\"48\" x=\"0\" y=\"0\" style=\"stroke: rgb(68, 68, 68); stroke-opacity: 1; fill: rgb(255, 255, 255); fill-opacity: 1; stroke-width: 0px;\"/><g class=\"scrollbox\" transform=\"\" clip-path=\"url(#legend4c4b2f)\"><g class=\"groups\"><g class=\"traces\" transform=\"translate(0,14.5)\" style=\"opacity: 1;\"><text class=\"legendtext\" text-anchor=\"start\" x=\"40\" y=\"4.680000000000001\" style=\"font-family: 'Open Sans', verdana, arial, sans-serif; font-size: 12px; fill: rgb(42, 63, 95); fill-opacity: 1; white-space: pre;\">Nacional</text><g class=\"layers\" style=\"opacity: 1;\"><g class=\"legendfill\"/><g class=\"legendlines\"/><g class=\"legendsymbols\"><g class=\"legendpoints\"><path class=\"legendpie\" d=\"M6,6H-6V-6H6Z\" transform=\"translate(20,0)\" style=\"stroke-width: 0; fill: rgb(99, 110, 250); fill-opacity: 1; stroke: rgb(68, 68, 68); stroke-opacity: 1;\"/></g></g></g><rect class=\"legendtoggle\" x=\"0\" y=\"-9.5\" width=\"98.0625\" height=\"19\" style=\"fill: rgb(0, 0, 0); fill-opacity: 0;\"/></g><g class=\"traces\" transform=\"translate(0,33.5)\" style=\"opacity: 1;\"><text class=\"legendtext\" text-anchor=\"start\" x=\"40\" y=\"4.680000000000001\" style=\"font-family: 'Open Sans', verdana, arial, sans-serif; font-size: 12px; fill: rgb(42, 63, 95); fill-opacity: 1; white-space: pre;\">Extranjero</text><g class=\"layers\" style=\"opacity: 1;\"><g class=\"legendfill\"/><g class=\"legendlines\"/><g class=\"legendsymbols\"><g class=\"legendpoints\"><path class=\"legendpie\" d=\"M6,6H-6V-6H6Z\" transform=\"translate(20,0)\" style=\"stroke-width: 0; fill: rgb(239, 85, 59); fill-opacity: 1; stroke: rgb(68, 68, 68); stroke-opacity: 1;\"/></g></g></g><rect class=\"legendtoggle\" x=\"0\" y=\"-9.5\" width=\"98.0625\" height=\"19\" style=\"fill: rgb(0, 0, 0); fill-opacity: 0;\"/></g></g></g><rect class=\"scrollbar\" rx=\"20\" ry=\"3\" width=\"0\" height=\"0\" x=\"0\" y=\"0\" style=\"fill: rgb(128, 139, 164); fill-opacity: 1;\"/></g><g class=\"g-gtitle\"><text class=\"gtitle\" x=\"35\" y=\"50\" text-anchor=\"start\" dy=\"0em\" style=\"font-family: 'Open Sans', verdana, arial, sans-serif; font-size: 17px; fill: rgb(42, 63, 95); opacity: 1; font-weight: normal; white-space: pre;\">Distribución porcentual de las personas con residencia nacional y extranjera</text></g></g></svg>"
      ]
     },
     "metadata": {},
     "output_type": "display_data"
    }
   ],
   "source": [
    "df1 = pd.DataFrame(data.Residencia.value_counts().apply(lambda x : round(x / data.Residencia.count() * 100)))\n",
    "df1 = df1.rename(columns = {'Residencia':'% Personas Residencia'})\n",
    "fig = px.pie(df1, values=\"% Personas Residencia\" ,names=df1.index,\n",
    "             title = 'Distribución porcentual de las personas con residencia nacional y extranjera')\n",
    "fig.show('svg')"
   ]
  }
 ],
 "metadata": {
  "kernelspec": {
   "display_name": "Python 3",
   "language": "python",
   "name": "python3"
  },
  "language_info": {
   "codemirror_mode": {
    "name": "ipython",
    "version": 3
   },
   "file_extension": ".py",
   "mimetype": "text/x-python",
   "name": "python",
   "nbconvert_exporter": "python",
   "pygments_lexer": "ipython3",
   "version": "3.9.7"
  },
  "orig_nbformat": 4
 },
 "nbformat": 4,
 "nbformat_minor": 2
}
